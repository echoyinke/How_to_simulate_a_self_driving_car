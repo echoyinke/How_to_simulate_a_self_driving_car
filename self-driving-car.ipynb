{
 "cells": [
  {
   "cell_type": "markdown",
   "metadata": {},
   "source": [
    "# 如何创造一个自动驾驶汽车\n",
    "\n",
    "优达学城最近开源了他们的自动驾驶汽车模拟器。\n",
    "\n",
    "![alt text](https://github.com/udacity/self-driving-car-sim/raw/master/sim_image.png \"Logo Title Text 1\")\n",
    "\n",
    "- 整体构建 (免费的游戏开发引擎 https://unity3d.com/)\n",
    "- 添加新的追踪轨迹, 更轻松的改变像重力加速度这样的脚本。 \n",
    "\n",
    "代码:\n",
    "https://github.com/udacity/self-driving-car-sim\n",
    "    \n",
    "## 数据产生 \n",
    "\n",
    "- 记录下中间，左边，右边摄像头拍下的图像。 w/ 还有相对应的方向转角，速度，油门和刹车。\n",
    "- 把数据存成 CSV 格式。\n",
    "- 理想情况下是使用方向盘, 不过，我们使用键盘也可以起到同样效果。\n",
    "\n",
    "\n",
    "## 训练模型 - 行为克隆\n",
    "\n",
    "我们用建立在Nvidia的端到端自动驾驶论文中的九层卷积神经网络，总共产生了72小时的训练数据，涵盖了各种情况下的人类驾驶情况。 \n",
    "\n",
    "https://www.youtube.com/watch?v=NJU9ULQUwng\n",
    "\n",
    "#### 硬件设计:\n",
    "\n",
    "![alt text](https://devblogs.nvidia.com/parallelforall/wp-content/uploads/2016/08/data-collection-system.png \"Logo Title Text 1\")\n",
    "\n",
    "- 3个摄像头。\n",
    "-  驾驶中的命令通过汽车的控制域网络总线(CAN)获得。\n",
    "- Nvidia's Drive PX onboard computer with GPUs\n",
    "\n",
    "为了使系统的与车体几何解耦，方向控制去1/r，这里1/r是转动半径，单位是米。用1/r而不用r是为了防止开直线的时候出现奇点（开直线时候转动半径是正无穷）。当你从左边转到右边，1/r的值域也就是从负值缓慢地穿过零点变成正值，\n",
    "\n",
    "In order to make the system independent of the car geometry, the steering command is 1/r, where r is the turning radius in meters.  1/r was used instead of r to prevent a singularity when driving straight (the turning radius for driving straight is infinity). 1/r smoothly transitions through zero from left turns (negative values) to right turns (positive values).\n",
    "\n",
    "\n",
    "#### 软件设计 (有监督学习!) :\n",
    "\n",
    "![alt text](https://devblogs.nvidia.com/parallelforall/wp-content/uploads/2016/08/training.png \"Logo Title Text 1\")\n",
    "\n",
    "把图像喂给CNN网络，就可以算出相应的proposed方向控制。这个proposed方向控制与desired方向控制做对比，根据两者的差别调整权重，使得输出的结果更加接近期望的结果。这里，通过反向传播完成权值的整定。\n",
    "![alt text](https://devblogs.nvidia.com/parallelforall/wp-content/uploads/2016/08/inference.png \"Logo Title Text 1\")\n",
    "\n",
    "## Testing mode\n",
    "\n",
    "我们开启自动驾驶模式, 让后使用训练好的模型，车子就会跑起来。\n",
    "\n",
    "![alt text](https://cdn-images-1.medium.com/max/1440/1*nlusa_fC5BnsgnWPFnov7Q.tiff \"Logo Title Text 1\")\n",
    "\n"
   ]
  },
  {
   "cell_type": "code",
   "execution_count": null,
   "metadata": {
    "collapsed": true
   },
   "outputs": [],
   "source": [
    "# Step 1 - Install dependencies\n",
    "\n",
    "#TensorFlow without GPU\n",
    "conda env create -f environments.yml \n",
    "\n",
    "#Use TensorFlow with GPU\n",
    "conda env create -f environments-gpu.yml\n",
    "\n",
    "\n",
    "#Step 2 - Generate Data\n",
    "\n",
    "#Step 3 - Write Training script\n",
    "\n",
    "#Step 4 - Train\n",
    "\n",
    "#Step 5 - Write Testing script\n",
    "\n"
   ]
  }
 ],
 "metadata": {
  "kernelspec": {
   "display_name": "Python 2",
   "language": "python",
   "name": "python2"
  },
  "language_info": {
   "codemirror_mode": {
    "name": "ipython",
    "version": 2
   },
   "file_extension": ".py",
   "mimetype": "text/x-python",
   "name": "python",
   "nbconvert_exporter": "python",
   "pygments_lexer": "ipython2",
   "version": "2.7.13"
  },
  "widgets": {
   "state": {},
   "version": "1.1.2"
  }
 },
 "nbformat": 4,
 "nbformat_minor": 2
}
